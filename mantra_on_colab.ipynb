{
  "nbformat": 4,
  "nbformat_minor": 0,
  "metadata": {
    "colab": {
      "name": "mantra.ipynb",
      "provenance": [],
      "mount_file_id": "1qwRZnJMH_cMU6d98KuPB3K9IooN4AQdD",
      "authorship_tag": "ABX9TyMACCj34CY1ppdnTKZ8sQSx",
      "include_colab_link": true
    },
    "kernelspec": {
      "name": "python3",
      "display_name": "Python 3"
    },
    "language_info": {
      "name": "python"
    },
    "accelerator": "GPU"
  },
  "cells": [
    {
      "cell_type": "markdown",
      "metadata": {
        "id": "view-in-github",
        "colab_type": "text"
      },
      "source": [
        "<a href=\"https://colab.research.google.com/github/farhan0syakir/MANTRA-CVPR20/blob/v2%2Ftransformer/mantra_on_colab.ipynb\" target=\"_parent\"><img src=\"https://colab.research.google.com/assets/colab-badge.svg\" alt=\"Open In Colab\"/></a>"
      ]
    },
    {
      "cell_type": "code",
      "metadata": {
        "colab": {
          "base_uri": "https://localhost:8080/"
        },
        "id": "VCEv4KopujTM",
        "outputId": "754961ea-3f1e-4b8a-8712-d3de3386bf39"
      },
      "source": [
        "%cd /content/drive/Othercomputers/My Laptop/gdrive/MANTRA-CVPR20"
      ],
      "execution_count": 2,
      "outputs": [
        {
          "output_type": "stream",
          "text": [
            "/content/drive/Othercomputers/My Laptop/gdrive/MANTRA-CVPR20\n"
          ],
          "name": "stdout"
        }
      ]
    },
    {
      "cell_type": "code",
      "metadata": {
        "colab": {
          "base_uri": "https://localhost:8080/",
          "height": 1000
        },
        "id": "BA8DA3K3vUm8",
        "outputId": "9d88a1f1-097f-4955-e2a2-fa8d512f106f"
      },
      "source": [
        "% pip install --ignore-installed -r requirements.txt"
      ],
      "execution_count": 3,
      "outputs": [
        {
          "output_type": "stream",
          "text": [
            "Collecting wheel\n",
            "  Downloading wheel-0.37.0-py2.py3-none-any.whl (35 kB)\n",
            "Collecting tqdm==4.59.0\n",
            "  Downloading tqdm-4.59.0-py2.py3-none-any.whl (74 kB)\n",
            "\u001b[K     |████████████████████████████████| 74 kB 2.7 MB/s \n",
            "\u001b[?25hCollecting scipy==1.6.2\n",
            "  Downloading scipy-1.6.2-cp37-cp37m-manylinux1_x86_64.whl (27.4 MB)\n",
            "\u001b[K     |████████████████████████████████| 27.4 MB 95 kB/s \n",
            "\u001b[?25hCollecting opencv_python==4.5.1.48\n",
            "  Downloading opencv_python-4.5.1.48-cp37-cp37m-manylinux2014_x86_64.whl (50.4 MB)\n",
            "\u001b[K     |████████████████████████████████| 50.4 MB 13 kB/s \n",
            "\u001b[?25hCollecting torch==1.8.1\n",
            "  Downloading torch-1.8.1-cp37-cp37m-manylinux1_x86_64.whl (804.1 MB)\n",
            "\u001b[K     |████████████████████████████████| 804.1 MB 2.7 kB/s \n",
            "\u001b[?25hCollecting h5py==3.2.1\n",
            "  Downloading h5py-3.2.1-cp37-cp37m-manylinux1_x86_64.whl (4.1 MB)\n",
            "\u001b[K     |████████████████████████████████| 4.1 MB 49.1 MB/s \n",
            "\u001b[?25hCollecting numpy==1.19.5\n",
            "  Downloading numpy-1.19.5-cp37-cp37m-manylinux2010_x86_64.whl (14.8 MB)\n",
            "\u001b[K     |████████████████████████████████| 14.8 MB 168 kB/s \n",
            "\u001b[?25hCollecting matplotlib==3.4.1\n",
            "  Downloading matplotlib-3.4.1-cp37-cp37m-manylinux1_x86_64.whl (10.3 MB)\n",
            "\u001b[K     |████████████████████████████████| 10.3 MB 15.8 MB/s \n",
            "\u001b[?25hCollecting torchvision==0.9.1\n",
            "  Downloading torchvision-0.9.1-cp37-cp37m-manylinux1_x86_64.whl (17.4 MB)\n",
            "\u001b[K     |████████████████████████████████| 17.4 MB 123 kB/s \n",
            "\u001b[?25hCollecting dataset==1.5.0\n",
            "  Downloading dataset-1.5.0-py2.py3-none-any.whl (17 kB)\n",
            "Collecting Pillow==8.2.0\n",
            "  Downloading Pillow-8.2.0-cp37-cp37m-manylinux1_x86_64.whl (3.0 MB)\n",
            "\u001b[K     |████████████████████████████████| 3.0 MB 48.0 MB/s \n",
            "\u001b[?25hCollecting tensorboardX==2.2\n",
            "  Downloading tensorboardX-2.2-py2.py3-none-any.whl (120 kB)\n",
            "\u001b[K     |████████████████████████████████| 120 kB 70.0 MB/s \n",
            "\u001b[?25hCollecting typing-extensions\n",
            "  Downloading typing_extensions-3.10.0.0-py3-none-any.whl (26 kB)\n",
            "Collecting cached-property\n",
            "  Downloading cached_property-1.5.2-py2.py3-none-any.whl (7.6 kB)\n",
            "Collecting pyparsing>=2.2.1\n",
            "  Downloading pyparsing-2.4.7-py2.py3-none-any.whl (67 kB)\n",
            "\u001b[K     |████████████████████████████████| 67 kB 8.1 MB/s \n",
            "\u001b[?25hCollecting cycler>=0.10\n",
            "  Downloading cycler-0.10.0-py2.py3-none-any.whl (6.5 kB)\n",
            "Collecting python-dateutil>=2.7\n",
            "  Downloading python_dateutil-2.8.2-py2.py3-none-any.whl (247 kB)\n",
            "\u001b[K     |████████████████████████████████| 247 kB 76.5 MB/s \n",
            "\u001b[?25hCollecting kiwisolver>=1.0.1\n",
            "  Downloading kiwisolver-1.3.1-cp37-cp37m-manylinux1_x86_64.whl (1.1 MB)\n",
            "\u001b[K     |████████████████████████████████| 1.1 MB 65.0 MB/s \n",
            "\u001b[?25hCollecting alembic>=0.6.2\n",
            "  Downloading alembic-1.6.5-py2.py3-none-any.whl (164 kB)\n",
            "\u001b[K     |████████████████████████████████| 164 kB 71.4 MB/s \n",
            "\u001b[?25hCollecting banal>=1.0.1\n",
            "  Downloading banal-1.0.6-py2.py3-none-any.whl (6.1 kB)\n",
            "Collecting sqlalchemy>=1.3.2\n",
            "  Downloading SQLAlchemy-1.4.22-cp37-cp37m-manylinux_2_5_x86_64.manylinux1_x86_64.manylinux_2_17_x86_64.manylinux2014_x86_64.whl (1.6 MB)\n",
            "\u001b[K     |████████████████████████████████| 1.6 MB 52.2 MB/s \n",
            "\u001b[?25hCollecting protobuf>=3.8.0\n",
            "  Downloading protobuf-3.17.3-cp37-cp37m-manylinux_2_5_x86_64.manylinux1_x86_64.whl (1.0 MB)\n",
            "\u001b[K     |████████████████████████████████| 1.0 MB 67.7 MB/s \n",
            "\u001b[?25hCollecting python-editor>=0.3\n",
            "  Downloading python_editor-1.0.4-py3-none-any.whl (4.9 kB)\n",
            "Collecting Mako\n",
            "  Downloading Mako-1.1.4-py2.py3-none-any.whl (75 kB)\n",
            "\u001b[K     |████████████████████████████████| 75 kB 5.4 MB/s \n",
            "\u001b[?25hCollecting six\n",
            "  Downloading six-1.16.0-py2.py3-none-any.whl (11 kB)\n",
            "Collecting importlib-metadata\n",
            "  Downloading importlib_metadata-4.6.4-py3-none-any.whl (17 kB)\n",
            "Collecting greenlet!=0.4.17\n",
            "  Downloading greenlet-1.1.1-cp37-cp37m-manylinux_2_17_x86_64.manylinux2014_x86_64.whl (143 kB)\n",
            "\u001b[K     |████████████████████████████████| 143 kB 70.0 MB/s \n",
            "\u001b[?25hCollecting zipp>=0.5\n",
            "  Downloading zipp-3.5.0-py3-none-any.whl (5.7 kB)\n",
            "Collecting MarkupSafe>=0.9.2\n",
            "  Downloading MarkupSafe-2.0.1-cp37-cp37m-manylinux_2_5_x86_64.manylinux1_x86_64.manylinux_2_12_x86_64.manylinux2010_x86_64.whl (31 kB)\n",
            "Installing collected packages: zipp, typing-extensions, six, MarkupSafe, importlib-metadata, greenlet, sqlalchemy, python-editor, python-dateutil, numpy, Mako, torch, pyparsing, protobuf, Pillow, kiwisolver, cycler, cached-property, banal, alembic, wheel, tqdm, torchvision, tensorboardX, scipy, opencv-python, matplotlib, h5py, dataset\n",
            "\u001b[31mERROR: pip's dependency resolver does not currently take into account all the packages that are installed. This behaviour is the source of the following dependency conflicts.\n",
            "torchtext 0.10.0 requires torch==1.9.0, but you have torch 1.8.1 which is incompatible.\n",
            "tensorflow 2.5.0 requires h5py~=3.1.0, but you have h5py 3.2.1 which is incompatible.\n",
            "tensorflow 2.5.0 requires six~=1.15.0, but you have six 1.16.0 which is incompatible.\n",
            "tensorflow 2.5.0 requires typing-extensions~=3.7.4, but you have typing-extensions 3.10.0.0 which is incompatible.\n",
            "google-colab 1.0.0 requires six~=1.15.0, but you have six 1.16.0 which is incompatible.\n",
            "datascience 0.10.6 requires folium==0.2.1, but you have folium 0.8.3 which is incompatible.\n",
            "albumentations 0.1.12 requires imgaug<0.2.7,>=0.2.5, but you have imgaug 0.2.9 which is incompatible.\u001b[0m\n",
            "Successfully installed Mako-1.1.4 MarkupSafe-2.0.1 Pillow-8.2.0 alembic-1.6.5 banal-1.0.6 cached-property-1.5.2 cycler-0.10.0 dataset-1.5.0 greenlet-1.1.1 h5py-3.2.1 importlib-metadata-4.6.4 kiwisolver-1.3.1 matplotlib-3.4.1 numpy-1.19.5 opencv-python-4.5.1.48 protobuf-3.17.3 pyparsing-2.4.7 python-dateutil-2.8.2 python-editor-1.0.4 scipy-1.6.2 six-1.16.0 sqlalchemy-1.4.22 tensorboardX-2.2 torch-1.9.0+cu102 torchvision-0.10.0+cu102 tqdm-4.62.0 typing-extensions-3.10.0.0 wheel-0.37.0 zipp-3.5.0\n"
          ],
          "name": "stdout"
        },
        {
          "output_type": "display_data",
          "data": {
            "application/vnd.colab-display-data+json": {
              "pip_warning": {
                "packages": [
                  "PIL",
                  "cycler",
                  "dateutil",
                  "google",
                  "kiwisolver",
                  "matplotlib",
                  "mpl_toolkits",
                  "numpy",
                  "pyparsing",
                  "six"
                ]
              }
            }
          },
          "metadata": {
            "tags": []
          }
        }
      ]
    },
    {
      "cell_type": "code",
      "metadata": {
        "colab": {
          "base_uri": "https://localhost:8080/"
        },
        "id": "xsnaU3cFu1qe",
        "outputId": "23c6c2cc-ec85-4bee-ecd9-15f2c60e2cb1"
      },
      "source": [
        "!python train_ae.py --d_model 64"
      ],
      "execution_count": 5,
      "outputs": [
        {
          "output_type": "stream",
          "text": [
            "Creating dataset...\n",
            "video: 0005\n",
            "/content/drive/Othercomputers/My Laptop/gdrive/MANTRA-CVPR20/dataset_invariance.py:191: RuntimeWarning: invalid value encountered in true_divide\n",
            "  return vector / np.linalg.norm(vector)\n",
            "video: 0009\n",
            "video: 0011\n",
            "video: 0013\n",
            "video: 0014\n",
            "video: 0017\n",
            "video: 0027\n",
            "video: 0028\n",
            "video: 0048\n",
            "video: 0051\n",
            "video: 0056\n",
            "video: 0057\n",
            "video: 0059\n",
            "video: 0060\n",
            "video: 0084\n",
            "video: 0091\n",
            "tcmalloc: large alloc 1116250112 bytes == 0x55b4fad3e000 @  0x7f2033d681e7 0x7f20307b446e 0x7f2030804c7b 0x7f2030807e83 0x7f203080807b 0x7f20308a9761 0x55b4afa92010 0x55b4afa91da0 0x55b4afb062f9 0x55b4afb00c35 0x55b4afa93fec 0x55b4afad4bc9 0x55b4afad1ac4 0x55b4afa928a9 0x55b4afb06b0a 0x55b4afa93b99 0x55b4afad4bc9 0x55b4afad1ac4 0x55b4afa927b2 0x55b4afb066f2 0x55b4afa9365a 0x55b4afb01b0e 0x55b4afb00c35 0x55b4afb00933 0x55b4afbca402 0x55b4afbca77d 0x55b4afbca626 0x55b4afba2313 0x55b4afba1fbc 0x7f2032b52bf7 0x55b4afba1e9a\n",
            "video: 0001\n",
            "video: 0002\n",
            "video: 0015\n",
            "video: 0018\n",
            "video: 0029\n",
            "video: 0032\n",
            "video: 0052\n",
            "video: 0070\n",
            "Dataset created\n",
            "start training autoencoder\n",
            " ----- Epoch: 0\n",
            "100% 270/270 [00:43<00:00,  6.21it/s]\n",
            "Loss: 37.02176284790039\n",
            "test on train dataset\n",
            "100% 270/270 [00:35<00:00,  7.55it/s]\n",
            "test on TEST dataset\n",
            "100% 91/91 [00:22<00:00,  4.10it/s]\n",
            " ----- Epoch: 1\n",
            " 28% 75/270 [00:12<00:32,  6.02it/s]\n",
            "Traceback (most recent call last):\n",
            "  File \"train_ae.py\", line 30, in <module>\n",
            "    main(config)\n",
            "  File \"train_ae.py\", line 25, in main\n",
            "    t.fit()\n",
            "  File \"/content/drive/Othercomputers/My Laptop/gdrive/MANTRA-CVPR20/trainer/trainer_ae.py\", line 156, in fit\n",
            "    loss = self._train_single_epoch()\n",
            "  File \"/content/drive/Othercomputers/My Laptop/gdrive/MANTRA-CVPR20/trainer/trainer_ae.py\", line 269, in _train_single_epoch\n",
            "    self.opt.step()\n",
            "  File \"/usr/local/lib/python3.7/dist-packages/torch/optim/optimizer.py\", line 89, in wrapper\n",
            "    return func(*args, **kwargs)\n",
            "  File \"/usr/local/lib/python3.7/dist-packages/torch/autograd/grad_mode.py\", line 27, in decorate_context\n",
            "    return func(*args, **kwargs)\n",
            "  File \"/usr/local/lib/python3.7/dist-packages/torch/optim/adam.py\", line 119, in step\n",
            "    group['eps'])\n",
            "  File \"/usr/local/lib/python3.7/dist-packages/torch/optim/_functional.py\", line 85, in adam\n",
            "    exp_avg_sq.mul_(beta2).addcmul_(grad, grad, value=1 - beta2)\n",
            "KeyboardInterrupt\n"
          ],
          "name": "stdout"
        }
      ]
    }
  ]
}